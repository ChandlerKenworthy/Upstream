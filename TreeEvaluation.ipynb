{
 "cells": [
  {
   "cell_type": "markdown",
   "metadata": {},
   "source": [
    "# Evaluation of the BDT\n",
    "Using ROOT files directly to make sure the framework implementation is working correctly."
   ]
  },
  {
   "cell_type": "code",
   "execution_count": 16,
   "metadata": {},
   "outputs": [],
   "source": [
    "import numpy as np\n",
    "import pandas as pd\n",
    "import uproot as up\n",
    "import boost_histogram as bh\n",
    "import hist\n",
    "from hist import Hist\n",
    "import matplotlib.pyplot as plt\n",
    "from matplotlib.colors import LogNorm\n",
    "import mplhep as hep\n",
    "hep.style.use(hep.style.ROOT)"
   ]
  },
  {
   "cell_type": "markdown",
   "metadata": {},
   "source": [
    "Now lets print the region counts just so we can see more easily any actual difference."
   ]
  },
  {
   "cell_type": "code",
   "execution_count": 17,
   "metadata": {},
   "outputs": [],
   "source": [
    "regions = {\n",
    "    'sr1': 1, # signal region 1\n",
    "    'sr2': 2, # signal region 2\n",
    "    'k2pi': 3, # K2pi background region\n",
    "    'kmu2': 4, # Kmu2 background region\n",
    "    'k3pi': 5, # k3pi background region\n",
    "    'ups': 6, # upstream backgroun region (-ve mm2)\n",
    "    'cr1': 10,\n",
    "    'cr2': 20,\n",
    "    'crmu': 30,\n",
    "    'crmu1': 31,\n",
    "    'crmu2': 32,\n",
    "    'cr3pi': 40,\n",
    "    'cr3d': 50,\n",
    "}"
   ]
  },
  {
   "cell_type": "code",
   "execution_count": 18,
   "metadata": {},
   "outputs": [],
   "source": [
    "h = {}\n",
    "with up.open(\"./data/NewFW/Kpinn_Run12_11_noov_Kaon7.root:PNNAnalysis\") as f:\n",
    "    for k in f.keys():\n",
    "        h[k.replace(\";1\",\"\")] = f[k].to_hist()"
   ]
  },
  {
   "cell_type": "code",
   "execution_count": 4,
   "metadata": {},
   "outputs": [
    {
     "data": {
      "text/plain": [
       "dict_keys(['TPNN_I_vs_p', 'signal_mm2_v_p', 'signal_region', 'signalxgb_mm2_v_p', 'signalxgb_region', 'sampleC_mm2_v_p', 'sampleC_region', 'sampleCxgb_mm2_v_p', 'sampleCxgb_region', 'Ups1_mm2_v_p', 'Ups1_region', 'Ups5_mm2_v_p', 'Ups5_region', 'Ups7_mm2_v_p', 'Ups7_region', 'h_NMC_KdecZ_', 'pi_Kdaughter_mm2_vs_p_', 'h_MC_Kdaughter_p_vs_Zprod_', 'h_MC_Kdaughter_mm2_vs_Zprod_', 'h_MC_Kdaughter_mm2_vs_p_KinFV_'])"
      ]
     },
     "execution_count": 4,
     "metadata": {},
     "output_type": "execute_result"
    }
   ],
   "source": [
    "h.keys()"
   ]
  },
  {
   "cell_type": "code",
   "execution_count": 4,
   "metadata": {},
   "outputs": [
    {
     "data": {
      "text/plain": [
       "38.0"
      ]
     },
     "execution_count": 4,
     "metadata": {},
     "output_type": "execute_result"
    }
   ],
   "source": [
    "h[\"sampleC_region\"].values()[regions['sr1']] + h[\"sampleC_region\"].values()[regions['sr2']]"
   ]
  },
  {
   "cell_type": "code",
   "execution_count": 6,
   "metadata": {},
   "outputs": [
    {
     "data": {
      "text/plain": [
       "2328.0"
      ]
     },
     "execution_count": 6,
     "metadata": {},
     "output_type": "execute_result"
    }
   ],
   "source": [
    "h[\"sampleC_region\"].values().sum()"
   ]
  },
  {
   "cell_type": "code",
   "execution_count": 5,
   "metadata": {},
   "outputs": [
    {
     "data": {
      "text/plain": [
       "27.0"
      ]
     },
     "execution_count": 5,
     "metadata": {},
     "output_type": "execute_result"
    }
   ],
   "source": [
    "h[\"sampleCxgb_region\"].values()[regions['sr1']] + h[\"sampleCxgb_region\"].values()[regions['sr2']]"
   ]
  },
  {
   "cell_type": "code",
   "execution_count": 7,
   "metadata": {},
   "outputs": [
    {
     "data": {
      "text/plain": [
       "1899.0"
      ]
     },
     "execution_count": 7,
     "metadata": {},
     "output_type": "execute_result"
    }
   ],
   "source": [
    "h[\"sampleCxgb_region\"].values().sum()"
   ]
  },
  {
   "cell_type": "code",
   "execution_count": 19,
   "metadata": {},
   "outputs": [
    {
     "data": {
      "text/plain": [
       "(192584.0, 197705.0)"
      ]
     },
     "execution_count": 19,
     "metadata": {},
     "output_type": "execute_result"
    }
   ],
   "source": [
    "h[\"signal_region\"].values()[regions['sr1']], h[\"signalxgb_region\"].values()[regions['sr1']]"
   ]
  },
  {
   "cell_type": "code",
   "execution_count": 20,
   "metadata": {},
   "outputs": [
    {
     "data": {
      "text/plain": [
       "(1062245.0, 1116624.0)"
      ]
     },
     "execution_count": 20,
     "metadata": {},
     "output_type": "execute_result"
    }
   ],
   "source": [
    "h[\"signal_region\"].values()[regions['sr2']], h[\"signalxgb_region\"].values()[regions['sr2']]"
   ]
  },
  {
   "cell_type": "markdown",
   "metadata": {},
   "source": [
    "## SampleC"
   ]
  },
  {
   "cell_type": "code",
   "execution_count": 3,
   "metadata": {},
   "outputs": [],
   "source": [
    "#h = {}\n",
    "#with up.open(\"./data/fwEvals/2022_sampleC_and_Bkg_Eval_Kaon4.root:PNNAnalysis\") as f:\n",
    "#    for k in f.keys():\n",
    "#        h[k.replace(\";1\",\"\")] = f[k].to_hist()\n",
    "\n",
    "h5 = {}\n",
    "with up.open(\"./data/NewFW/2022_t0.143.x_Kaon5.root:PNNAnalysis\") as f:\n",
    "    for k in f.keys():\n",
    "        h5[k.replace(\";1\",\"\")] = f[k].to_hist()"
   ]
  },
  {
   "cell_type": "code",
   "execution_count": 4,
   "metadata": {},
   "outputs": [
    {
     "name": "stdout",
     "output_type": "stream",
     "text": [
      "Signal Region 1 TMVA: 458.0\n",
      "Signal Region 2 TMVA: 4962.0\n"
     ]
    }
   ],
   "source": [
    "print(f'Signal Region 1 TMVA: {h5[\"sampleC_region\"].values()[regions[\"sr1\"]]}')\n",
    "print(f'Signal Region 2 TMVA: {h5[\"sampleC_region\"].values()[regions[\"sr2\"]]}')"
   ]
  },
  {
   "cell_type": "code",
   "execution_count": 9,
   "metadata": {},
   "outputs": [
    {
     "data": {
      "text/plain": [
       "ColormeshArtists(pcolormesh=<matplotlib.collections.QuadMesh object at 0x11fd0dde0>, cbar=<matplotlib.colorbar.Colorbar object at 0x11fcd1630>, text=[])"
      ]
     },
     "execution_count": 9,
     "metadata": {},
     "output_type": "execute_result"
    },
    {
     "data": {
      "image/png": "[encoded data removed]",
      "text/plain": [
       "<Figure size 1000x1000 with 2 Axes>"
      ]
     },
     "metadata": {},
     "output_type": "display_data"
    }
   ],
   "source": [
    "h5[\"sampleC_TMVA_mm2_vs_p\"][15j:45j, :].plot(cmap=\"jet\", norm=LogNorm())"
   ]
  },
  {
   "cell_type": "code",
   "execution_count": 5,
   "metadata": {},
   "outputs": [
    {
     "name": "stdout",
     "output_type": "stream",
     "text": [
      "Signal Region 1 TMVA: 434.0\n",
      "Signal Region 2 TMVA: 1198.0\n"
     ]
    }
   ],
   "source": [
    "print(f'Signal Region 1 TMVA: {h5[\"sampleC_TMVA_region\"].values()[regions[\"sr1\"]]}')\n",
    "print(f'Signal Region 2 TMVA: {h5[\"sampleC_TMVA_region\"].values()[regions[\"sr2\"]]}')"
   ]
  },
  {
   "cell_type": "code",
   "execution_count": 38,
   "metadata": {},
   "outputs": [
    {
     "name": "stdout",
     "output_type": "stream",
     "text": [
      "Signal Region 1 TMVA (No GTK veto): 6.0\n",
      "Signal Region 2 TMVA (No GTK veto): 41.0\n"
     ]
    }
   ],
   "source": [
    "print(f'Signal Region 1 TMVA (No GTK veto): {h5[\"sampleCNoGTK_BDT_region\"].values()[regions[\"sr1\"]]}')\n",
    "print(f'Signal Region 2 TMVA (No GTK veto): {h5[\"sampleCNoGTK_BDT_region\"].values()[regions[\"sr2\"]]}')"
   ]
  },
  {
   "cell_type": "code",
   "execution_count": 28,
   "metadata": {},
   "outputs": [
    {
     "name": "stdout",
     "output_type": "stream",
     "text": [
      "Signal Region 1 BDT (Kaon4): 7.0\n",
      "Signal Region 1 BDT (Kaon4): 40.0\n"
     ]
    }
   ],
   "source": [
    "#print(f'Signal Region 1 BDT (Kaon4): {h[\"sampleC_BDT_region\"].values()[regions[\"sr1\"]]}')\n",
    "#print(f'Signal Region 1 BDT (Kaon4): {h[\"sampleC_BDT_region\"].values()[regions[\"sr2\"]]}')"
   ]
  },
  {
   "cell_type": "code",
   "execution_count": 28,
   "metadata": {},
   "outputs": [
    {
     "name": "stdout",
     "output_type": "stream",
     "text": [
      "Signal Region 1 BDT (Kaon4, No GTK Veto): 7.0\n",
      "Signal Region 1 BDT (Kaon4, No GTK Veto): 41.0\n"
     ]
    }
   ],
   "source": [
    "#print(f'Signal Region 1 BDT (Kaon4, No GTK Veto): {h[\"sampleCNoGTK_BDT_region\"].values()[regions[\"sr1\"]]}')\n",
    "#print(f'Signal Region 1 BDT (Kaon4, No GTK Veto): {h[\"sampleCNoGTK_BDT_region\"].values()[regions[\"sr2\"]]}')"
   ]
  },
  {
   "cell_type": "code",
   "execution_count": 29,
   "metadata": {},
   "outputs": [
    {
     "name": "stdout",
     "output_type": "stream",
     "text": [
      "Signal Region 1 BDT (Kaon5): 4.0\n",
      "Signal Region 1 BDT (Kaon5): 27.0\n"
     ]
    }
   ],
   "source": [
    "print(f'Signal Region 1 BDT (Kaon5): {h5[\"sampleC_BDT_region\"].values()[regions[\"sr1\"]]}')\n",
    "print(f'Signal Region 1 BDT (Kaon5): {h5[\"sampleC_BDT_region\"].values()[regions[\"sr2\"]]}')"
   ]
  },
  {
   "cell_type": "code",
   "execution_count": 31,
   "metadata": {},
   "outputs": [
    {
     "name": "stdout",
     "output_type": "stream",
     "text": [
      "Signal Region 1 BDT (Kaon5, No GTK Veto): 6.0\n",
      "Signal Region 2 BDT (Kaon5, No GTK Veto): 41.0\n"
     ]
    }
   ],
   "source": [
    "print(f'Signal Region 1 BDT (Kaon5, No GTK Veto): {h5[\"sampleCNoGTK_BDT_region\"].values()[regions[\"sr1\"]]}')\n",
    "print(f'Signal Region 2 BDT (Kaon5, No GTK Veto): {h5[\"sampleCNoGTK_BDT_region\"].values()[regions[\"sr2\"]]}')"
   ]
  },
  {
   "cell_type": "markdown",
   "metadata": {},
   "source": [
    "# Standard Background Regions"
   ]
  },
  {
   "cell_type": "code",
   "execution_count": 32,
   "metadata": {},
   "outputs": [
    {
     "name": "stdout",
     "output_type": "stream",
     "text": [
      "K3pi Region BDT (No BB): 28427.0\n",
      "K2pi Region BDT (No BB): 3995.0\n",
      "Kmu2 Region BDT (No BB): 12336.0\n",
      "\n",
      "K3pi Region BDT (TMVA): 23321.0\n",
      "K2pi Region BDT (TMVA): 3638.0\n",
      "Kmu2 Region BDT (TMVA): 10726.0\n",
      "\n",
      "K3pi Region BDT (Kaon5): 22789.0\n",
      "K2pi Region BDT (Kaon5): 3420.0\n",
      "Kmu2 Region BDT (Kaon5): 10595.0\n",
      "\n",
      "K3pi Region BDT (Kaon5, No GTK): 22795.0\n",
      "K2pi Region BDT (Kaon5, No GTK): 3481.0\n",
      "Kmu2 Region BDT (Kaon5, No GTK): 10694.0\n"
     ]
    }
   ],
   "source": [
    "#print(f'K3pi Region TMVA: {h[\"Bkg_TMVA_region\"].values()[regions[\"k3pi\"]]}')\n",
    "#print(f'K2pi Region TMVA: {h[\"Bkg_TMVA_region\"].values()[regions[\"k2pi\"]]}')\n",
    "#print(f'K2pi Region TMVA: {h[\"Bkg_TMVA_region\"].values()[regions[\"kmu2\"]]}\\n')\n",
    "\n",
    "#print(f'K3pi Region TMVA (No GTK): {h[\"BkgNoGTK_TMVA_region\"].values()[regions[\"k3pi\"]]}')\n",
    "#print(f'K2pi Region TMVA (No GTK): {h[\"BkgNoGTK_TMVA_region\"].values()[regions[\"k2pi\"]]}')\n",
    "#print(f'K2pi Region TMVA (No GTK): {h[\"BkgNoGTK_TMVA_region\"].values()[regions[\"kmu2\"]]}\\n')\n",
    "\n",
    "#print(f'K3pi Region BDT (Kaon4): {h[\"Bkg_BDT_region\"].values()[regions[\"k3pi\"]]}')\n",
    "#print(f'K2pi Region BDT (Kaon4): {h[\"Bkg_BDT_region\"].values()[regions[\"k2pi\"]]}')\n",
    "#print(f'K2pi Region BDT (Kaon4): {h[\"Bkg_BDT_region\"].values()[regions[\"kmu2\"]]}\\n')\n",
    "\n",
    "print(f'K3pi Region BDT (No BB): {h5[\"Bkg_region\"].values()[regions[\"k3pi\"]]}')\n",
    "print(f'K2pi Region BDT (No BB): {h5[\"Bkg_region\"].values()[regions[\"k2pi\"]]}')\n",
    "print(f'Kmu2 Region BDT (No BB): {h5[\"Bkg_region\"].values()[regions[\"kmu2\"]]}\\n')\n",
    "\n",
    "print(f'K3pi Region BDT (TMVA): {h5[\"Bkg_TMVA_region\"].values()[regions[\"k3pi\"]]}')\n",
    "print(f'K2pi Region BDT (TMVA): {h5[\"Bkg_TMVA_region\"].values()[regions[\"k2pi\"]]}')\n",
    "print(f'Kmu2 Region BDT (TMVA): {h5[\"Bkg_TMVA_region\"].values()[regions[\"kmu2\"]]}\\n')\n",
    "\n",
    "print(f'K3pi Region BDT (Kaon5): {h5[\"Bkg_BDT_region\"].values()[regions[\"k3pi\"]]}')\n",
    "print(f'K2pi Region BDT (Kaon5): {h5[\"Bkg_BDT_region\"].values()[regions[\"k2pi\"]]}')\n",
    "print(f'Kmu2 Region BDT (Kaon5): {h5[\"Bkg_BDT_region\"].values()[regions[\"kmu2\"]]}\\n')\n",
    "\n",
    "print(f'K3pi Region BDT (Kaon5, No GTK): {h5[\"BkgNoGTK_BDT_region\"].values()[regions[\"k3pi\"]]}')\n",
    "print(f'K2pi Region BDT (Kaon5, No GTK): {h5[\"BkgNoGTK_BDT_region\"].values()[regions[\"k2pi\"]]}')\n",
    "print(f'Kmu2 Region BDT (Kaon5, No GTK): {h5[\"BkgNoGTK_BDT_region\"].values()[regions[\"kmu2\"]]}')"
   ]
  },
  {
   "cell_type": "markdown",
   "metadata": {},
   "source": [
    "# Ke4 Noov"
   ]
  },
  {
   "cell_type": "code",
   "execution_count": 40,
   "metadata": {},
   "outputs": [],
   "source": [
    "h = {}\n",
    "with up.open(\"./data/fwEvals/Ke4Noov_sampleC_and_Bkg_Eval_Kaon4.root:PNNAnalysis\") as f:\n",
    "    for k in f.keys():\n",
    "        h[k.replace(\";1\",\"\")] = f[k].to_hist()\n",
    "\n",
    "h5 = {}\n",
    "with up.open(\"./data/fwEvals/Ke4Noov_sampleC_and_Bkg_Eval_Kaon5.root:PNNAnalysis\") as f:\n",
    "    for k in f.keys():\n",
    "        h5[k.replace(\";1\",\"\")] = f[k].to_hist()"
   ]
  },
  {
   "cell_type": "code",
   "execution_count": 51,
   "metadata": {},
   "outputs": [
    {
     "name": "stdout",
     "output_type": "stream",
     "text": [
      "K3pi Region TMVA: 53.0\n",
      "K2pi Region TMVA: 0.0\n",
      "Kmu2 Region TMVA: 0.0\n",
      "Signal Region 1 TMVA: 0.0\n",
      "Signal Region 2 TMVA: 20.0\n",
      "\n",
      "K3pi Region TMVA (No GTK): 53.0\n",
      "K2pi Region TMVA (No GTK): 0.0\n",
      "Kmu2 Region TMVA (No GTK): 0.0\n",
      "Signal Region 1 TMVA (No GTK): 0.0\n",
      "Signal Region 2 TMVA (No GTK): 20.0\n",
      "\n",
      "K3pi Region BDT (Kaon4): 55.0\n",
      "K2pi Region BDT (Kaon4): 0.0\n",
      "Kmu2 Region BDT (Kaon4): 0.0\n",
      "Signal Region 1 BDT (Kaon4): 0.0\n",
      "Signal Region 2 BDT (Kaon4): 21.0\n",
      "\n",
      "K3pi Region BDT (Kaon5): 57.0\n",
      "K2pi Region BDT (Kaon5): 0.0\n",
      "Kmu2 Region BDT (Kaon5): 0.0\n",
      "Signal Region 1 BDT (Kaon5): 0.0\n",
      "Signal Region 2 BDT (Kaon5): 21.0\n",
      "\n",
      "K3pi Region BDT (Kaon5, No GTK): 57.0\n",
      "K2pi Region BDT (Kaon5, No GTK): 0.0\n",
      "Kmu2 Region BDT (Kaon5, No GTK): 0.0\n",
      "Signal Region 1 TMVA: 0.0\n",
      "Signal Region 2 TMVA: 21.0\n",
      "\n"
     ]
    }
   ],
   "source": [
    "print(f'K3pi Region TMVA: {h[\"Bkg_TMVA_region\"].values()[regions[\"k3pi\"]]}')\n",
    "print(f'K2pi Region TMVA: {h[\"Bkg_TMVA_region\"].values()[regions[\"k2pi\"]]}')\n",
    "print(f'Kmu2 Region TMVA: {h[\"Bkg_TMVA_region\"].values()[regions[\"kmu2\"]]}')\n",
    "print(f'Signal Region 1 TMVA: {h[\"Sig_TMVA_region\"].values()[regions[\"sr1\"]]}')\n",
    "print(f'Signal Region 2 TMVA: {h[\"Sig_TMVA_region\"].values()[regions[\"sr2\"]]}\\n')\n",
    "\n",
    "print(f'K3pi Region TMVA (No GTK): {h[\"BkgNoGTK_TMVA_region\"].values()[regions[\"k3pi\"]]}')\n",
    "print(f'K2pi Region TMVA (No GTK): {h[\"BkgNoGTK_TMVA_region\"].values()[regions[\"k2pi\"]]}')\n",
    "print(f'Kmu2 Region TMVA (No GTK): {h[\"BkgNoGTK_TMVA_region\"].values()[regions[\"kmu2\"]]}')\n",
    "print(f'Signal Region 1 TMVA (No GTK): {h[\"SigNoGTK_TMVA_region\"].values()[regions[\"sr1\"]]}')\n",
    "print(f'Signal Region 2 TMVA (No GTK): {h[\"SigNoGTK_TMVA_region\"].values()[regions[\"sr2\"]]}\\n')\n",
    "\n",
    "print(f'K3pi Region BDT (Kaon4): {h[\"Bkg_BDT_region\"].values()[regions[\"k3pi\"]]}')\n",
    "print(f'K2pi Region BDT (Kaon4): {h[\"Bkg_BDT_region\"].values()[regions[\"k2pi\"]]}')\n",
    "print(f'Kmu2 Region BDT (Kaon4): {h[\"Bkg_BDT_region\"].values()[regions[\"kmu2\"]]}')\n",
    "print(f'Signal Region 1 BDT (Kaon4): {h[\"Sig_BDT_region\"].values()[regions[\"sr1\"]]}')\n",
    "print(f'Signal Region 2 BDT (Kaon4): {h[\"Sig_BDT_region\"].values()[regions[\"sr2\"]]}\\n')\n",
    "\n",
    "print(f'K3pi Region BDT (Kaon5): {h5[\"Bkg_BDT_region\"].values()[regions[\"k3pi\"]]}')\n",
    "print(f'K2pi Region BDT (Kaon5): {h5[\"Bkg_BDT_region\"].values()[regions[\"k2pi\"]]}')\n",
    "print(f'Kmu2 Region BDT (Kaon5): {h5[\"Bkg_BDT_region\"].values()[regions[\"kmu2\"]]}')\n",
    "print(f'Signal Region 1 BDT (Kaon5): {h5[\"Sig_BDT_region\"].values()[regions[\"sr1\"]]}')\n",
    "print(f'Signal Region 2 BDT (Kaon5): {h5[\"Sig_BDT_region\"].values()[regions[\"sr2\"]]}\\n')\n",
    "\n",
    "print(f'K3pi Region BDT (Kaon5, No GTK): {h5[\"BkgNoGTK_BDT_region\"].values()[regions[\"k3pi\"]]}')\n",
    "print(f'K2pi Region BDT (Kaon5, No GTK): {h5[\"BkgNoGTK_BDT_region\"].values()[regions[\"k2pi\"]]}')\n",
    "print(f'Kmu2 Region BDT (Kaon5, No GTK): {h5[\"BkgNoGTK_BDT_region\"].values()[regions[\"kmu2\"]]}')\n",
    "print(f'Signal Region 1 TMVA: {h5[\"SigNoGTK_BDT_region\"].values()[regions[\"sr1\"]]}')\n",
    "print(f'Signal Region 2 TMVA: {h5[\"SigNoGTK_BDT_region\"].values()[regions[\"sr2\"]]}\\n')"
   ]
  },
  {
   "cell_type": "markdown",
   "metadata": {},
   "source": [
    "## Signal Acceptances (Noov)"
   ]
  },
  {
   "cell_type": "code",
   "execution_count": 40,
   "metadata": {},
   "outputs": [],
   "source": [
    "h5 = {}\n",
    "with up.open(\"./data/NewFW/kpinn_12_11_noov_upstream_kaon5_new.root:PNNAnalysis\") as f:\n",
    "    for k in f.keys():\n",
    "        h5[k.replace(\";1\",\"\")] = f[k].to_hist()\n",
    "\n",
    "#h = {}\n",
    "#with up.open(\"./data/fwEvals/KpinnNoov_sampleC_Bkg_Sig_Eval_Kaon5.root:PNNAnalysis\") as f:\n",
    "#    for k in f.keys():\n",
    "#        h[k.replace(\";1\",\"\")] = f[k].to_hist()"
   ]
  },
  {
   "cell_type": "code",
   "execution_count": 43,
   "metadata": {},
   "outputs": [
    {
     "name": "stdout",
     "output_type": "stream",
     "text": [
      "Signal Region 1 TMVA (w/ GTK hits veto): 192584.0\n",
      "Signal Region 2 TMVA (w/ GTK hits veto): 1062245.0\n",
      "Total = 1254829.0\n"
     ]
    }
   ],
   "source": [
    "n1 = h5[\"Sig_TMVA_region\"].values()[regions[\"sr1\"]]\n",
    "n2 = h5[\"Sig_TMVA_region\"].values()[regions[\"sr2\"]]\n",
    "print(f'Signal Region 1 TMVA (w/ GTK hits veto): {n1}')\n",
    "print(f'Signal Region 2 TMVA (w/ GTK hits veto): {n2}')\n",
    "print(f\"Total = {n1 + n2}\")"
   ]
  },
  {
   "cell_type": "code",
   "execution_count": 44,
   "metadata": {},
   "outputs": [
    {
     "name": "stdout",
     "output_type": "stream",
     "text": [
      "Signal Region 1 (No Upstream Veto): 214562.0\n",
      "Signal Region 2 (No Upstream Veto): 1295815.0\n",
      "Total = 1510377.0\n"
     ]
    }
   ],
   "source": [
    "n1 = h5[\"Sig_region\"].values()[regions[\"sr1\"]]\n",
    "n2 = h5[\"Sig_region\"].values()[regions[\"sr2\"]]\n",
    "print(f'Signal Region 1 (No Upstream Veto): {n1}')\n",
    "print(f'Signal Region 2 (No Upstream Veto): {n2}')\n",
    "print(f\"Total = {n1 + n2}\")"
   ]
  },
  {
   "cell_type": "code",
   "execution_count": 46,
   "metadata": {},
   "outputs": [
    {
     "name": "stdout",
     "output_type": "stream",
     "text": [
      "Signal Region 1 Kaon5 (No GTK hits veto): 208068.0\n",
      "Signal Region 2 Kaon5 (No GTK hits veto): 1173592.0\n",
      "Total = 1381660.0\n"
     ]
    }
   ],
   "source": [
    "n1 = h5[\"SigNoGTK_BDT_region\"].values()[regions[\"sr1\"]]\n",
    "n2 = h5[\"SigNoGTK_BDT_region\"].values()[regions[\"sr2\"]]\n",
    "print(f'Signal Region 1 Kaon5 (No GTK hits veto): {n1}')\n",
    "print(f'Signal Region 2 Kaon5 (No GTK hits veto): {n2}')\n",
    "print(f\"Total = {n1 + n2}\")"
   ]
  },
  {
   "cell_type": "code",
   "execution_count": 7,
   "metadata": {},
   "outputs": [
    {
     "name": "stdout",
     "output_type": "stream",
     "text": [
      "Signal Region 1 Kaon5 (With GTK hits veto): 185008.0\n",
      "Signal Region 2 Kaon5 (With GTK hits veto): 981580.0\n"
     ]
    }
   ],
   "source": [
    "print(f'Signal Region 1 Kaon5 (With GTK hits veto): {h5[\"Sig_TMVA_region\"].values()[regions[\"sr1\"]]}')\n",
    "print(f'Signal Region 2 Kaon5 (With GTK hits veto): {h5[\"Sig_TMVA_region\"].values()[regions[\"sr2\"]]}')"
   ]
  },
  {
   "cell_type": "markdown",
   "metadata": {},
   "source": [
    "# Signal Overlaid"
   ]
  },
  {
   "cell_type": "code",
   "execution_count": 19,
   "metadata": {},
   "outputs": [],
   "source": [
    "#with up.open(\"./data/fwEvals/KpinnOvl_sampleC_Bkg_Sig_Eval_Kaon4.root:PNNAnalysis\") as f:\n",
    "#    h = {}\n",
    "#    for k in f.keys():\n",
    "#        h[k.replace(\";1\",\"\")] = f[k].to_hist()\n",
    "\n",
    "h5 = {}\n",
    "with up.open(\"./data/NewFW/kpinn_12_11_overlaid_upstream_kaon5_new.root:PNNAnalysis\") as f:\n",
    "    for k in f.keys():\n",
    "        h5[k.replace(\";1\",\"\")] = f[k].to_hist()"
   ]
  },
  {
   "cell_type": "code",
   "execution_count": 20,
   "metadata": {},
   "outputs": [
    {
     "name": "stdout",
     "output_type": "stream",
     "text": [
      "K3pi Region TMVA: 18891.0\n",
      "K2pi Region TMVA: 3155.0\n",
      "Kmu2 Region TMVA: 8638.0\n",
      "Signal Region 1 TMVA: 0.0\n",
      "Signal Region 2 TMVA: 0.0\n",
      "Signal Regions TMVA: 0.0\n",
      "\n",
      "K3pi Region TMVA (No GTK): 18942.0\n",
      "K2pi Region TMVA (No GTK): 3165.0\n",
      "Kmu2 Region TMVA (No GTK): 8653.0\n",
      "Signal Region 1 TMVA (No GTK): 0.0\n",
      "Signal Region 2 TMVA (No GTK): 0.0\n",
      "Signal Regions TMVA (No GTK): 0.0 \n",
      "\n",
      "K3pi Region BDT (Kaon4): 17922.0\n",
      "K2pi Region BDT (Kaon4): 2930.0\n",
      "Kmu2 Region BDT (Kaon4): 8530.0\n",
      "Signal Region 1 BDT (Kaon4): 0.0\n",
      "Signal Region 2 BDT (Kaon4): 0.0\n",
      "Signal Regions BDT (Kaon4): 0.0\n",
      "\n",
      "K3pi Region BDT (Kaon5): 83193.0\n",
      "K2pi Region BDT (Kaon5): 73305.0\n",
      "Kmu2 Region BDT (Kaon5): 198.0\n",
      "Signal Region 1 BDT (Kaon5): 60522.0\n",
      "Signal Region 2 BDT (Kaon5): 339900.0\n",
      "Signal Regions BDT (Kaon5): 400422.0\n",
      "\n",
      "K3pi Region BDT (Kaon5, No GTK): 83195.0\n",
      "K2pi Region BDT (Kaon5, No GTK): 74876.0\n",
      "Kmu2 Region BDT (Kaon5, No GTK): 198.0\n",
      "Signal Region 1 (Kaon5, No GTK): 62241.0\n",
      "Signal Region 2 (Kaon5, No GTK): 345250.0\n",
      "Signal Regions (Kaon5, No GTK): 407491.0\n",
      "\n"
     ]
    }
   ],
   "source": [
    "print(f'K3pi Region TMVA: {h[\"Bkg_TMVA_region\"].values()[regions[\"k3pi\"]]}')\n",
    "print(f'K2pi Region TMVA: {h[\"Bkg_TMVA_region\"].values()[regions[\"k2pi\"]]}')\n",
    "print(f'Kmu2 Region TMVA: {h[\"Bkg_TMVA_region\"].values()[regions[\"kmu2\"]]}')\n",
    "print(f'Signal Region 1 TMVA: {h[\"Sig_TMVA_region\"].values()[regions[\"sr1\"]]}')\n",
    "print(f'Signal Region 2 TMVA: {h[\"Sig_TMVA_region\"].values()[regions[\"sr2\"]]}')\n",
    "print(f'Signal Regions TMVA: {h[\"Sig_TMVA_region\"].values()[regions[\"sr2\"]] + h[\"Sig_TMVA_region\"].values()[regions[\"sr1\"]]}\\n')\n",
    "\n",
    "print(f'K3pi Region TMVA (No GTK): {h[\"BkgNoGTK_TMVA_region\"].values()[regions[\"k3pi\"]]}')\n",
    "print(f'K2pi Region TMVA (No GTK): {h[\"BkgNoGTK_TMVA_region\"].values()[regions[\"k2pi\"]]}')\n",
    "print(f'Kmu2 Region TMVA (No GTK): {h[\"BkgNoGTK_TMVA_region\"].values()[regions[\"kmu2\"]]}')\n",
    "print(f'Signal Region 1 TMVA (No GTK): {h[\"SigNoGTK_TMVA_region\"].values()[regions[\"sr1\"]]}')\n",
    "print(f'Signal Region 2 TMVA (No GTK): {h[\"SigNoGTK_TMVA_region\"].values()[regions[\"sr2\"]]}')\n",
    "print(f'Signal Regions TMVA (No GTK): {h[\"SigNoGTK_TMVA_region\"].values()[regions[\"sr2\"]] + h[\"SigNoGTK_TMVA_region\"].values()[regions[\"sr1\"]]} \\n')\n",
    "\n",
    "print(f'K3pi Region BDT (Kaon4): {h[\"Bkg_BDT_region\"].values()[regions[\"k3pi\"]]}')\n",
    "print(f'K2pi Region BDT (Kaon4): {h[\"Bkg_BDT_region\"].values()[regions[\"k2pi\"]]}')\n",
    "print(f'Kmu2 Region BDT (Kaon4): {h[\"Bkg_BDT_region\"].values()[regions[\"kmu2\"]]}')\n",
    "print(f'Signal Region 1 BDT (Kaon4): {h[\"Sig_BDT_region\"].values()[regions[\"sr1\"]]}')\n",
    "print(f'Signal Region 2 BDT (Kaon4): {h[\"Sig_BDT_region\"].values()[regions[\"sr2\"]]}')\n",
    "print(f'Signal Regions BDT (Kaon4): {h[\"Sig_BDT_region\"].values()[regions[\"sr1\"]] + h[\"Sig_BDT_region\"].values()[regions[\"sr2\"]]}\\n')\n",
    "\n",
    "print(f'K3pi Region BDT (Kaon5): {h5[\"Bkg_BDT_region\"].values()[regions[\"k3pi\"]]}')\n",
    "print(f'K2pi Region BDT (Kaon5): {h5[\"Bkg_BDT_region\"].values()[regions[\"k2pi\"]]}')\n",
    "print(f'Kmu2 Region BDT (Kaon5): {h5[\"Bkg_BDT_region\"].values()[regions[\"kmu2\"]]}')\n",
    "print(f'Signal Region 1 BDT (Kaon5): {h5[\"Sig_BDT_region\"].values()[regions[\"sr1\"]]}')\n",
    "print(f'Signal Region 2 BDT (Kaon5): {h5[\"Sig_BDT_region\"].values()[regions[\"sr2\"]]}')\n",
    "print(f'Signal Regions BDT (Kaon5): {h5[\"Sig_BDT_region\"].values()[regions[\"sr2\"]] + h5[\"Sig_BDT_region\"].values()[regions[\"sr1\"]]}\\n')\n",
    "\n",
    "print(f'K3pi Region BDT (Kaon5, No GTK): {h5[\"BkgNoGTK_BDT_region\"].values()[regions[\"k3pi\"]]}')\n",
    "print(f'K2pi Region BDT (Kaon5, No GTK): {h5[\"BkgNoGTK_BDT_region\"].values()[regions[\"k2pi\"]]}')\n",
    "print(f'Kmu2 Region BDT (Kaon5, No GTK): {h5[\"BkgNoGTK_BDT_region\"].values()[regions[\"kmu2\"]]}')\n",
    "print(f'Signal Region 1 (Kaon5, No GTK): {h5[\"SigNoGTK_BDT_region\"].values()[regions[\"sr1\"]]}')\n",
    "print(f'Signal Region 2 (Kaon5, No GTK): {h5[\"SigNoGTK_BDT_region\"].values()[regions[\"sr2\"]]}')\n",
    "print(f'Signal Regions (Kaon5, No GTK): {h5[\"SigNoGTK_BDT_region\"].values()[regions[\"sr2\"]] + h5[\"SigNoGTK_BDT_region\"].values()[regions[\"sr1\"]]}\\n')"
   ]
  },
  {
   "cell_type": "code",
   "execution_count": 24,
   "metadata": {},
   "outputs": [
    {
     "data": {
      "text/plain": [
       "447881.0"
      ]
     },
     "execution_count": 24,
     "metadata": {},
     "output_type": "execute_result"
    }
   ],
   "source": [
    "h5[\"Sig_region\"].values()[regions['sr1']] + h5[\"Sig_region\"].values()[regions['sr2']]"
   ]
  },
  {
   "cell_type": "code",
   "execution_count": null,
   "metadata": {},
   "outputs": [
    {
     "name": "stdout",
     "output_type": "stream",
     "text": [
      "K3pi Region TMVA: 18891.0\n",
      "K2pi Region TMVA: 3155.0\n",
      "Kmu2 Region TMVA: 8638.0\n",
      "Signal Region 1 TMVA: 0.0\n",
      "Signal Region 2 TMVA: 0.0\n",
      "Signal Regions TMVA: 0.0\n",
      "\n",
      "K3pi Region TMVA (No GTK): 18942.0\n",
      "K2pi Region TMVA (No GTK): 3165.0\n",
      "Kmu2 Region TMVA (No GTK): 8653.0\n",
      "Signal Region 1 TMVA (No GTK): 0.0\n",
      "Signal Region 2 TMVA (No GTK): 0.0\n",
      "Signal Regions TMVA (No GTK): 0.0 \n",
      "\n",
      "K3pi Region BDT (Kaon4): 17922.0\n",
      "K2pi Region BDT (Kaon4): 2930.0\n",
      "Kmu2 Region BDT (Kaon4): 8530.0\n",
      "Signal Region 1 BDT (Kaon4): 0.0\n",
      "Signal Region 2 BDT (Kaon4): 0.0\n",
      "Signal Regions BDT (Kaon4): 0.0\n",
      "\n",
      "K3pi Region BDT (Kaon5): 83193.0\n",
      "K2pi Region BDT (Kaon5): 73305.0\n",
      "Kmu2 Region BDT (Kaon5): 198.0\n",
      "Signal Region 1 BDT (Kaon5): 60522.0\n",
      "Signal Region 2 BDT (Kaon5): 339900.0\n",
      "Signal Regions BDT (Kaon5): 400422.0\n",
      "\n",
      "K3pi Region BDT (Kaon5, No GTK): 83195.0\n",
      "K2pi Region BDT (Kaon5, No GTK): 74876.0\n",
      "Kmu2 Region BDT (Kaon5, No GTK): 198.0\n",
      "Signal Region 1 (Kaon5, No GTK): 62241.0\n",
      "Signal Region 2 (Kaon5, No GTK): 345250.0\n",
      "Signal Regions (Kaon5, No GTK): 407491.0\n",
      "\n"
     ]
    }
   ],
   "source": [
    "print(f'K3pi Region TMVA: {h[\"Bkg_TMVA_region\"].values()[regions[\"k3pi\"]]}')\n",
    "print(f'K2pi Region TMVA: {h[\"Bkg_TMVA_region\"].values()[regions[\"k2pi\"]]}')\n",
    "print(f'Kmu2 Region TMVA: {h[\"Bkg_TMVA_region\"].values()[regions[\"kmu2\"]]}')\n",
    "print(f'Signal Region 1 TMVA: {h[\"Sig_TMVA_region\"].values()[regions[\"sr1\"]]}')\n",
    "print(f'Signal Region 2 TMVA: {h[\"Sig_TMVA_region\"].values()[regions[\"sr2\"]]}')\n",
    "print(f'Signal Regions TMVA: {h[\"Sig_TMVA_region\"].values()[regions[\"sr2\"]] + h[\"Sig_TMVA_region\"].values()[regions[\"sr1\"]]}\\n')\n",
    "\n",
    "print(f'K3pi Region TMVA (No GTK): {h[\"BkgNoGTK_TMVA_region\"].values()[regions[\"k3pi\"]]}')\n",
    "print(f'K2pi Region TMVA (No GTK): {h[\"BkgNoGTK_TMVA_region\"].values()[regions[\"k2pi\"]]}')\n",
    "print(f'Kmu2 Region TMVA (No GTK): {h[\"BkgNoGTK_TMVA_region\"].values()[regions[\"kmu2\"]]}')\n",
    "print(f'Signal Region 1 TMVA (No GTK): {h[\"SigNoGTK_TMVA_region\"].values()[regions[\"sr1\"]]}')\n",
    "print(f'Signal Region 2 TMVA (No GTK): {h[\"SigNoGTK_TMVA_region\"].values()[regions[\"sr2\"]]}')\n",
    "print(f'Signal Regions TMVA (No GTK): {h[\"SigNoGTK_TMVA_region\"].values()[regions[\"sr2\"]] + h[\"SigNoGTK_TMVA_region\"].values()[regions[\"sr1\"]]} \\n')\n",
    "\n",
    "print(f'K3pi Region BDT (Kaon4): {h[\"Bkg_BDT_region\"].values()[regions[\"k3pi\"]]}')\n",
    "print(f'K2pi Region BDT (Kaon4): {h[\"Bkg_BDT_region\"].values()[regions[\"k2pi\"]]}')\n",
    "print(f'Kmu2 Region BDT (Kaon4): {h[\"Bkg_BDT_region\"].values()[regions[\"kmu2\"]]}')\n",
    "print(f'Signal Region 1 BDT (Kaon4): {h[\"Sig_BDT_region\"].values()[regions[\"sr1\"]]}')\n",
    "print(f'Signal Region 2 BDT (Kaon4): {h[\"Sig_BDT_region\"].values()[regions[\"sr2\"]]}')\n",
    "print(f'Signal Regions BDT (Kaon4): {h[\"Sig_BDT_region\"].values()[regions[\"sr1\"]] + h[\"Sig_BDT_region\"].values()[regions[\"sr2\"]]}\\n')\n",
    "\n",
    "print(f'K3pi Region BDT (Kaon5): {h5[\"Bkg_BDT_region\"].values()[regions[\"k3pi\"]]}')\n",
    "print(f'K2pi Region BDT (Kaon5): {h5[\"Bkg_BDT_region\"].values()[regions[\"k2pi\"]]}')\n",
    "print(f'Kmu2 Region BDT (Kaon5): {h5[\"Bkg_BDT_region\"].values()[regions[\"kmu2\"]]}')\n",
    "print(f'Signal Region 1 BDT (Kaon5): {h5[\"Sig_BDT_region\"].values()[regions[\"sr1\"]]}')\n",
    "print(f'Signal Region 2 BDT (Kaon5): {h5[\"Sig_BDT_region\"].values()[regions[\"sr2\"]]}')\n",
    "print(f'Signal Regions BDT (Kaon5): {h5[\"Sig_BDT_region\"].values()[regions[\"sr2\"]] + h5[\"Sig_BDT_region\"].values()[regions[\"sr1\"]]}\\n')\n",
    "\n",
    "print(f'K3pi Region BDT (Kaon5, No GTK): {h5[\"BkgNoGTK_BDT_region\"].values()[regions[\"k3pi\"]]}')\n",
    "print(f'K2pi Region BDT (Kaon5, No GTK): {h5[\"BkgNoGTK_BDT_region\"].values()[regions[\"k2pi\"]]}')\n",
    "print(f'Kmu2 Region BDT (Kaon5, No GTK): {h5[\"BkgNoGTK_BDT_region\"].values()[regions[\"kmu2\"]]}')\n",
    "print(f'Signal Region 1 (Kaon5, No GTK): {h5[\"SigNoGTK_BDT_region\"].values()[regions[\"sr1\"]]}')\n",
    "print(f'Signal Region 2 (Kaon5, No GTK): {h5[\"SigNoGTK_BDT_region\"].values()[regions[\"sr2\"]]}')\n",
    "print(f'Signal Regions (Kaon5, No GTK): {h5[\"SigNoGTK_BDT_region\"].values()[regions[\"sr2\"]] + h5[\"SigNoGTK_BDT_region\"].values()[regions[\"sr1\"]]}\\n')"
   ]
  }
 ],
 "metadata": {
  "kernelspec": {
   "display_name": "tf",
   "language": "python",
   "name": "python3"
  },
  "language_info": {
   "codemirror_mode": {
    "name": "ipython",
    "version": 3
   },
   "file_extension": ".py",
   "mimetype": "text/x-python",
   "name": "python",
   "nbconvert_exporter": "python",
   "pygments_lexer": "ipython3",
   "version": "3.10.8"
  }
 },
 "nbformat": 4,
 "nbformat_minor": 2
}
